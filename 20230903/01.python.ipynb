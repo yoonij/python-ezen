{
 "cells": [
  {
   "cell_type": "code",
   "execution_count": 8,
   "metadata": {},
   "outputs": [
    {
     "name": "stdout",
     "output_type": "stream",
     "text": [
      "10\n",
      "test\n"
     ]
    }
   ],
   "source": [
    "# 주석\n",
    "# 실행이 되지 않는 부분\n",
    "# 코드에 대한 설명을 쓰는 부분\n",
    "# ctrl+/ 하면 해당하는 주석처리를 알아서 해줌.\n",
    "\n",
    "# 변수 생성\n",
    "a = 10\n",
    "b = \"test\"\n",
    "#  변수 출력\n",
    "print(a)\n",
    "print(b)"
   ]
  },
  {
   "cell_type": "code",
   "execution_count": 10,
   "metadata": {},
   "outputs": [
    {
     "name": "stdout",
     "output_type": "stream",
     "text": [
      "<class 'int'>\n",
      "<class 'str'>\n"
     ]
    }
   ],
   "source": [
    "# 변수의 타입을 확인\n",
    "print(type(a))\n",
    "print(type(b))"
   ]
  },
  {
   "cell_type": "code",
   "execution_count": 13,
   "metadata": {},
   "outputs": [
    {
     "name": "stdout",
     "output_type": "stream",
     "text": [
      "True\n",
      "<class 'bool'>\n"
     ]
    }
   ],
   "source": [
    "# bool형태의 데이터\n",
    "a = True\n",
    "print(a)\n",
    "print(type(a))"
   ]
  },
  {
   "cell_type": "code",
   "execution_count": 14,
   "metadata": {},
   "outputs": [
    {
     "name": "stdout",
     "output_type": "stream",
     "text": [
      "10 4 21 2.3333333333333335 2 1 343\n"
     ]
    }
   ],
   "source": [
    "# 산술연산자\n",
    "a = 7\n",
    "b = 3\n",
    "\n",
    "print(a+b, a-b, a*b, a/b, a//b, a%b, a**b)"
   ]
  },
  {
   "cell_type": "code",
   "execution_count": 17,
   "metadata": {},
   "outputs": [
    {
     "name": "stdout",
     "output_type": "stream",
     "text": [
      "8.5\n",
      "5.0\n"
     ]
    }
   ],
   "source": [
    "# 산술연산자의 우선순위\n",
    "a = 7\n",
    "b = 3\n",
    "c = 2\n",
    "print(a+b/c)\n",
    "print((a+b)/c)\n"
   ]
  },
  {
   "cell_type": "code",
   "execution_count": 20,
   "metadata": {},
   "outputs": [
    {
     "name": "stdout",
     "output_type": "stream",
     "text": [
      "10\n",
      "7\n",
      "10\n"
     ]
    }
   ],
   "source": [
    "# 대입연산자\n",
    "a = 7\n",
    "print(a+3) # 10\n",
    "print(a) # 7\n",
    "a += 3 # a =a + 3\n",
    "print(a) # 10"
   ]
  },
  {
   "cell_type": "code",
   "execution_count": 23,
   "metadata": {},
   "outputs": [
    {
     "ename": "SyntaxError",
     "evalue": "invalid syntax (4125631486.py, line 2)",
     "output_type": "error",
     "traceback": [
      "\u001b[1;36m  Cell \u001b[1;32mIn[23], line 2\u001b[1;36m\u001b[0m\n\u001b[1;33m    -조건식을 기준으로 참인 경우 실행 할 코드와 거짓인 경우 실행 할 코드를 작성\u001b[0m\n\u001b[1;37m          ^\u001b[0m\n\u001b[1;31mSyntaxError\u001b[0m\u001b[1;31m:\u001b[0m invalid syntax\n"
     ]
    }
   ],
   "source": [
    "### 조건문\n",
    "-조건식을 기준으로 참인 경우 실행 할 코드와 거짓인 경우 실행 할 코드를 작성"
   ]
  },
  {
   "cell_type": "code",
   "execution_count": 30,
   "metadata": {},
   "outputs": [],
   "source": [
    "# 조건문 (if문)\n",
    "x = 15\n",
    "\n",
    "if x < 10:\n",
    "    print('x는 10보다 작다')"
   ]
  },
  {
   "cell_type": "code",
   "execution_count": 31,
   "metadata": {},
   "outputs": [
    {
     "name": "stdout",
     "output_type": "stream",
     "text": [
      "x는 10보다 크거나 같다\n"
     ]
    }
   ],
   "source": [
    "# if ~ else 문\n",
    "if x < 10:\n",
    "    print('x는 10보다 작다')\n",
    "else:\n",
    "    print(\"x는 10보다 크거나 같다\")"
   ]
  },
  {
   "cell_type": "code",
   "execution_count": 32,
   "metadata": {},
   "outputs": [
    {
     "name": "stdout",
     "output_type": "stream",
     "text": [
      "A\n"
     ]
    }
   ],
   "source": [
    "# 조건식이 여러개인 경우\n",
    "# input()함수는 유저가 입력할 수 있는 창을 새로 만들어서 입력값을 받아오는 함수(데이터의 형태가 문자형)\n",
    "# input()함수는 데이터를 정수형 데이터로 변환\n",
    "score = int(input('점수를 입력하시오 :'))\n",
    "\n",
    "if score >= 90:\n",
    "    print('A')\n",
    "elif score >= 80:\n",
    "    print('B')\n",
    "elif score >= 70:\n",
    "    print('C')\n",
    "elif score >= 60:\n",
    "    print('D')\n",
    "else : \n",
    "    print('F')"
   ]
  },
  {
   "cell_type": "markdown",
   "metadata": {},
   "source": [
    "### 반복문\n",
    "- for문\n",
    "    - 자료형 데이터의 개수만큼 반복 실행\n",
    "- while문\n",
    "    - 해당하는 조거식이 거짓일때까지 반복 실행"
   ]
  },
  {
   "cell_type": "code",
   "execution_count": 36,
   "metadata": {},
   "outputs": [
    {
     "name": "stdout",
     "output_type": "stream",
     "text": [
      "range(0, 5)\n",
      "[0, 1, 2, 3, 4]\n"
     ]
    }
   ],
   "source": [
    "# range(시작값, 종료값, 증가값)\n",
    "print(range(0,5,1))\n",
    "print(list(range(0, 5, 1)))"
   ]
  },
  {
   "cell_type": "code",
   "execution_count": 37,
   "metadata": {},
   "outputs": [
    {
     "name": "stdout",
     "output_type": "stream",
     "text": [
      "0\n",
      "1\n",
      "2\n",
      "3\n",
      "4\n"
     ]
    }
   ],
   "source": [
    "for i in range(0, 5, 1) :\n",
    "    print(i)"
   ]
  },
  {
   "cell_type": "code",
   "execution_count": 38,
   "metadata": {},
   "outputs": [
    {
     "name": "stdout",
     "output_type": "stream",
     "text": [
      "0\n",
      "1\n",
      "2\n",
      "3\n",
      "4\n"
     ]
    }
   ],
   "source": [
    "for i in range(5) :\n",
    "    print(i)\n",
    "    "
   ]
  },
  {
   "cell_type": "code",
   "execution_count": 39,
   "metadata": {},
   "outputs": [
    {
     "name": "stdout",
     "output_type": "stream",
     "text": [
      "1\n",
      "5\n",
      "9\n",
      "11\n"
     ]
    }
   ],
   "source": [
    "list_a = [1,5,9,11]\n",
    "\n",
    "for i in list_a:\n",
    "    print(i)"
   ]
  },
  {
   "cell_type": "code",
   "execution_count": 42,
   "metadata": {},
   "outputs": [
    {
     "name": "stdout",
     "output_type": "stream",
     "text": [
      "1\n",
      "5\n",
      "9\n",
      "11\n"
     ]
    }
   ],
   "source": [
    "# 리스트의 길이를 출력하는 함수 : len()\n",
    "for i in range(0, len(list_a), 1):\n",
    "    print(list_a[i])"
   ]
  },
  {
   "cell_type": "code",
   "execution_count": 43,
   "metadata": {},
   "outputs": [
    {
     "name": "stdout",
     "output_type": "stream",
     "text": [
      "10\n"
     ]
    }
   ],
   "source": [
    "# 1부터 10까지의 합계를 반복문을 이용하여 계산\n",
    "\n",
    "# 합계라는 변수를 초기값을 대입하여 변수 생성\n",
    "result = 0\n",
    "\n",
    "result += 1\n",
    "result += 2\n",
    "result += 3\n",
    "result += 4\n",
    "\n",
    "print(result)"
   ]
  },
  {
   "cell_type": "code",
   "execution_count": 44,
   "metadata": {},
   "outputs": [
    {
     "name": "stdout",
     "output_type": "stream",
     "text": [
      "55\n"
     ]
    }
   ],
   "source": [
    "result = 0\n",
    "\n",
    "for i in range(1, 11, 1):\n",
    "    # i는 1, 2, 3, 4, 5, 6, 7, 8, 9, 10\n",
    "    result += i\n",
    "    # ressult = result + i\n",
    "print(result)"
   ]
  },
  {
   "cell_type": "code",
   "execution_count": null,
   "metadata": {},
   "outputs": [],
   "source": [
    "# 다중 for문\n",
    "for i in range(0, 5, 1):\n",
    "    for j in range(0, 5, 1):\n",
    "        print(i, j)"
   ]
  },
  {
   "cell_type": "code",
   "execution_count": null,
   "metadata": {},
   "outputs": [],
   "source": [
    "# 구구단 생성\n",
    "# 2단부터 9단까지\n",
    "for i in range(2, 10, 1):\n",
    "    # 1부터 9까지 \n",
    "    # 1번\n",
    "    print(i, '단 시작')\n",
    "    for j in range(1, 10, 1):\n",
    "        # 2번\n",
    "        print(i, 'X', j, '=', i*j)\n",
    "        # 3번\n",
    "    # 4번\n",
    "    print(i, '단 종료')\n",
    "# 5번"
   ]
  },
  {
   "cell_type": "markdown",
   "metadata": {},
   "source": [
    "### 반복문 예제문제\n",
    "1. 1부터 50까지의 숫자 중 3의 배수의 합계를 구하시오\n",
    "    - 합계라는 초기 값을 지정(0)\n",
    "    - for문을 이용하여 1부터 50까지 반복을 하는 반복문 생성\n",
    "    - 1부터 50까지의 합계\n",
    "    - 조건식을 이용하여 3의 배수인 경우에만 합계에 더해질수 있도록 조건문 생성\n",
    "\n",
    "2. 두개의 주사위의 합이 5 이상인 경우를 출력하시오\n",
    "    - 첫번째 반복문에서 첫번째 주사위의 경우의 수를 반복문으로 생성\n",
    "    - 2번째 반복문에서는 두번째 주사위의 경우의 수를 반복문으로 생성\n",
    "    - 2개의 주사위의 합이 5보다 크다는 조건식\n",
    "    - 조건식이 참인 경우의 두 주사위의 숫자를 출력"
   ]
  },
  {
   "cell_type": "code",
   "execution_count": 54,
   "metadata": {},
   "outputs": [
    {
     "name": "stdout",
     "output_type": "stream",
     "text": [
      "408\n"
     ]
    }
   ],
   "source": [
    "# 합계라는 초기 변수를 생성\n",
    "result = 0\n",
    "# 1부터 50까지 반복을 하는 반복문을 생성\n",
    "for i in range(1, 51, 1):\n",
    "    # 조건식은 3의 배수인 경우\n",
    "    if i % 3 == 0:\n",
    "            \n",
    "        #result에 i를 누적함\n",
    "        result += i\n",
    "        #result = result + i\n",
    "print(result)"
   ]
  },
  {
   "cell_type": "code",
   "execution_count": 56,
   "metadata": {},
   "outputs": [
    {
     "name": "stdout",
     "output_type": "stream",
     "text": [
      "408\n"
     ]
    }
   ],
   "source": [
    "result = 0\n",
    "for i in range(0,51,3):\n",
    "    result += i\n",
    "\n",
    "print(result)"
   ]
  },
  {
   "cell_type": "code",
   "execution_count": null,
   "metadata": {},
   "outputs": [],
   "source": [
    "# 첫번째 주사위의 경우의 수를 반복문 생성\n",
    "for i in range(1, 7, 1): \n",
    "    for j in range(1, 7, 1):\n",
    "        # 두 주사위의 합이 5이상인 경우\n",
    "        if i + j >= 5:\n",
    "            #주사위를 출력\n",
    "            print(i, j)"
   ]
  },
  {
   "cell_type": "code",
   "execution_count": null,
   "metadata": {},
   "outputs": [],
   "source": [
    "# while 문\n",
    "\n",
    "#초기값을 생성\n",
    "i = 0\n",
    "#while 조건식\n",
    "while i < 10:\n",
    "    # 반복 실행 할 코드\n",
    "    \n",
    "    #초기값을 증가\n",
    "    i += 1\n",
    "    # i = i + 1\n",
    "    print(i)"
   ]
  },
  {
   "cell_type": "code",
   "execution_count": 60,
   "metadata": {},
   "outputs": [
    {
     "name": "stdout",
     "output_type": "stream",
     "text": [
      "55\n"
     ]
    }
   ],
   "source": [
    "# while문을 이용하여 1부터 10까지의 합계\n",
    "\n",
    "result = 0\n",
    "i = 1\n",
    "\n",
    "while i <= 10:\n",
    "    # result에 i값을 누적합\n",
    "    result += i\n",
    "    \n",
    "    i += 1\n",
    "\n",
    "print(result)"
   ]
  },
  {
   "cell_type": "code",
   "execution_count": null,
   "metadata": {},
   "outputs": [],
   "source": [
    "# break구문\n",
    "# 반복문을 강제로 종료\n",
    "for i in range(1, 101, 1):\n",
    "    print(i)\n",
    "    if i == 5:\n",
    "        break"
   ]
  },
  {
   "cell_type": "code",
   "execution_count": null,
   "metadata": {},
   "outputs": [],
   "source": [
    "# continue구문\n",
    "# 반복문으로 돌아간다\n",
    "for i in range(1, 10, 1):\n",
    "    if i < 3:\n",
    "        continue\n",
    "    print(i)"
   ]
  },
  {
   "cell_type": "markdown",
   "metadata": {},
   "source": [
    "###예제 문제\n",
    "- 반복문을 이용하여 1부터 100까지의 합계를 구하는데 합계가 1200이 넘어가는 순간의 i값과 합계를 출력하시오\n",
    "    - 합계라는 초기값을 지정\n",
    "    - 1부터 100까지 반복을 하는 반복문 생성\n",
    "    - 합계 변수에 반복문의 i값을 누적합\n",
    "    - 누적합이 1200보다 크다면 반복문을 종료\n",
    "    - i의 값과 합계의 값을 출력"
   ]
  },
  {
   "cell_type": "code",
   "execution_count": 69,
   "metadata": {},
   "outputs": [
    {
     "name": "stdout",
     "output_type": "stream",
     "text": [
      "1 1\n"
     ]
    }
   ],
   "source": [
    "# 내가 풀이한 것 틀림\n",
    "result = 0\n",
    "for i in range(1, 101, 1):\n",
    "    result += i\n",
    "    if i < 1200:\n",
    "        break \n",
    "\n",
    "print(i, result)  "
   ]
  },
  {
   "cell_type": "code",
   "execution_count": 67,
   "metadata": {},
   "outputs": [
    {
     "name": "stdout",
     "output_type": "stream",
     "text": [
      "49 1225\n"
     ]
    }
   ],
   "source": [
    "# for 문\n",
    "\n",
    "# 합계라는 변수 초기값 설정\n",
    "result = 0\n",
    "\n",
    "for i in range(1, 101, 1):\n",
    "    #result에 i값을 누적합\n",
    "    result += i\n",
    "    #result = result + i\n",
    "    #reslut가 1200보다 크다면?\n",
    "    if result > 1200:\n",
    "        print(f\"1부터 100까지의 합계중 합계의 값이 1200보다 큰 경우는 {1}까지의 합이고 합계의 값은 {result}이다\")\n",
    "        #반복문을 종료\n",
    "        break\n",
    "\n",
    "print(i, result)\n"
   ]
  },
  {
   "cell_type": "code",
   "execution_count": 71,
   "metadata": {},
   "outputs": [
    {
     "name": "stdout",
     "output_type": "stream",
     "text": [
      "1225\n"
     ]
    }
   ],
   "source": [
    "# while 문\n",
    "\n",
    "# 합계 초기 변수 생성\n",
    "result = 0\n",
    "#반복문의 초기값 생성\n",
    "i = 1\n",
    "\n",
    "# while 조건식\n",
    "# while i <= 100:\n",
    "while i < 101:\n",
    "    # 1번\n",
    "    # 합계에 i를 누적합\n",
    "    result += i\n",
    "    # result = result + i\n",
    "    #2번\n",
    "    if result > 1200 :\n",
    "        break\n",
    "    # 초기값을 증가\n",
    "    i += 1\n",
    "    # i = i + 1\n",
    "    #3번\n",
    "print(result)"
   ]
  },
  {
   "cell_type": "markdown",
   "metadata": {},
   "source": [
    "### 자료형 데이터\n",
    "1. 튜플 \n",
    "    - 자료형 데이터에서 가장 기본적인 형태의 데이터\n",
    "    - ()로 묶어서 데이터 생성\n",
    "    - 각 원소들을 수정&삭제 불가능\n",
    "2. 리스트\n",
    "    - []로 묶어서 데이터 생성\n",
    "    - 리스트의 내장함수를 이용하여 각 원소들을 수정, 추가, 삭제가 가능\n",
    "3. 딕셔너리\n",
    "    - {}로 묶어서 데이터 생성\n",
    "    - key : value의 형태로 데이터가 생성\n",
    "    - 각 원소들을 수정, 삭제 , 추가 가능"
   ]
  },
  {
   "cell_type": "code",
   "execution_count": 72,
   "metadata": {},
   "outputs": [
    {
     "name": "stdout",
     "output_type": "stream",
     "text": [
      "13\n"
     ]
    }
   ],
   "source": [
    "# 튜플들의 합\n",
    "c = a + b\n",
    "print(c)"
   ]
  },
  {
   "cell_type": "code",
   "execution_count": null,
   "metadata": {},
   "outputs": [],
   "source": []
  },
  {
   "cell_type": "code",
   "execution_count": 73,
   "metadata": {},
   "outputs": [
    {
     "ename": "NameError",
     "evalue": "name 'prnit' is not defined",
     "output_type": "error",
     "traceback": [
      "\u001b[1;31m---------------------------------------------------------------------------\u001b[0m",
      "\u001b[1;31mNameError\u001b[0m                                 Traceback (most recent call last)",
      "Cell \u001b[1;32mIn[73], line 2\u001b[0m\n\u001b[0;32m      1\u001b[0m d \u001b[39m=\u001b[39m a \u001b[39m*\u001b[39m \u001b[39m3\u001b[39m\n\u001b[1;32m----> 2\u001b[0m prnit(d)\n",
      "\u001b[1;31mNameError\u001b[0m: name 'prnit' is not defined"
     ]
    }
   ],
   "source": [
    "d = a * 3\n",
    "prnit(d)"
   ]
  },
  {
   "cell_type": "code",
   "execution_count": 74,
   "metadata": {},
   "outputs": [
    {
     "ename": "TypeError",
     "evalue": "'int' object is not subscriptable",
     "output_type": "error",
     "traceback": [
      "\u001b[1;31m---------------------------------------------------------------------------\u001b[0m",
      "\u001b[1;31mTypeError\u001b[0m                                 Traceback (most recent call last)",
      "Cell \u001b[1;32mIn[74], line 2\u001b[0m\n\u001b[0;32m      1\u001b[0m \u001b[39m# 튜플 데이터에서 하나의 원소만 출력\u001b[39;00m\n\u001b[1;32m----> 2\u001b[0m \u001b[39mprint\u001b[39m(a[\u001b[39m0\u001b[39;49m])\n\u001b[0;32m      3\u001b[0m \u001b[39mprint\u001b[39m(a[\u001b[39m1\u001b[39m])\n",
      "\u001b[1;31mTypeError\u001b[0m: 'int' object is not subscriptable"
     ]
    }
   ],
   "source": [
    "# 튜플 데이터에서 하나의 원소만 출력\n",
    "print(a[0])\n",
    "print(a[1])"
   ]
  },
  {
   "cell_type": "code",
   "execution_count": 75,
   "metadata": {},
   "outputs": [
    {
     "name": "stdout",
     "output_type": "stream",
     "text": [
      "(20, 30)\n"
     ]
    }
   ],
   "source": [
    "x = (10, 20, 30, 40)\n",
    "\n",
    "# 2번째부터 4번째전까지 데이터를 출력\n",
    "print(x[1:3])"
   ]
  },
  {
   "cell_type": "code",
   "execution_count": 76,
   "metadata": {},
   "outputs": [
    {
     "name": "stdout",
     "output_type": "stream",
     "text": [
      "(20, 30, 40)\n",
      "(10, 20)\n"
     ]
    }
   ],
   "source": [
    "# 2번째부터 마지막까지\n",
    "print(x[1:])\n",
    "#처음부터 3번째 전까지\n",
    "print(x[:2])"
   ]
  },
  {
   "cell_type": "code",
   "execution_count": 77,
   "metadata": {},
   "outputs": [
    {
     "name": "stdout",
     "output_type": "stream",
     "text": [
      "[20, 10, 50, 30]\n",
      "[10, 20, 30, 40]\n",
      "[10, 20, 30, 50]\n",
      "[40, 30, 20, 10]\n"
     ]
    }
   ],
   "source": [
    "#리스트 형태 데이터\n",
    "a = [20, 10, 50, 30]\n",
    "b = [10, 20, 30, 40]\n",
    "print(a)\n",
    "print(b)\n",
    "# a의 데이터들을 오름차순 정렬 순서 변경\n",
    "a.sort()\n",
    "print(a)\n",
    "#b의 데이터들은 역순으로 변경\n",
    "b.reverse()\n",
    "print(b)"
   ]
  },
  {
   "cell_type": "code",
   "execution_count": null,
   "metadata": {},
   "outputs": [],
   "source": []
  }
 ],
 "metadata": {
  "kernelspec": {
   "display_name": "Python 3",
   "language": "python",
   "name": "python3"
  },
  "language_info": {
   "codemirror_mode": {
    "name": "ipython",
    "version": 3
   },
   "file_extension": ".py",
   "mimetype": "text/x-python",
   "name": "python",
   "nbconvert_exporter": "python",
   "pygments_lexer": "ipython3",
   "version": "3.11.0"
  },
  "orig_nbformat": 4
 },
 "nbformat": 4,
 "nbformat_minor": 2
}
